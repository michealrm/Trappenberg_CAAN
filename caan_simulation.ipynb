{
 "cells": [
  {
   "cell_type": "markdown",
   "source": [
    "# TODOs\n",
    "* Plot weights (Gaussian function/kernel)\n",
    "* Swap out equation for updating the activity rate\n",
    "* Add external input"
   ],
   "metadata": {
    "collapsed": false
   }
  },
  {
   "cell_type": "code",
   "execution_count": 38,
   "outputs": [],
   "source": [
    "import math\n",
    "import numpy as np\n",
    "from matplotlib import pyplot as plt\n",
    "import scipy as sp"
   ],
   "metadata": {
    "collapsed": false,
    "ExecuteTime": {
     "end_time": "2024-07-05T14:20:30.089779Z",
     "start_time": "2024-07-05T14:20:30.086743Z"
    }
   }
  },
  {
   "cell_type": "code",
   "execution_count": 39,
   "outputs": [
    {
     "name": "stdout",
     "output_type": "stream",
     "text": [
      "[[1.00000000e+00 9.80198673e-01 9.23116346e-01 ... 6.49934797e-20\n",
      "  9.72098502e-21 1.39694394e-21]\n",
      " [9.80198673e-01 1.00000000e+00 9.80198673e-01 ... 4.17501006e-19\n",
      "  6.49934797e-20 9.72098502e-21]\n",
      " [9.23116346e-01 9.80198673e-01 1.00000000e+00 ... 2.57675711e-18\n",
      "  4.17501006e-19 6.49934797e-20]\n",
      " ...\n",
      " [6.49934797e-20 4.17501006e-19 2.57675711e-18 ... 1.00000000e+00\n",
      "  9.80198673e-01 9.23116346e-01]\n",
      " [9.72098502e-21 6.49934797e-20 4.17501006e-19 ... 9.80198673e-01\n",
      "  1.00000000e+00 9.80198673e-01]\n",
      " [1.39694394e-21 9.72098502e-21 6.49934797e-20 ... 9.23116346e-01\n",
      "  9.80198673e-01 1.00000000e+00]]\n"
     ]
    },
    {
     "data": {
      "text/plain": "<Figure size 640x480 with 1 Axes>",
      "image/png": "[encoded data removed]"
     },
     "metadata": {},
     "output_type": "display_data"
    }
   ],
   "source": [
    "num_nodes = 50\n",
    "num_time_steps = 10\n",
    "\n",
    "w = np.zeros((num_nodes, num_nodes))\n",
    "width = 0.2\n",
    "for r in range(1, num_nodes + 1):\n",
    "    for c in range(1, num_nodes + 1):\n",
    "        w[r - 1][c - 1] = math.exp(-math.pow(r - c, 2) / 2 * math.pow(width, 2))\n",
    "\n",
    "plt.plot(np.arange(num_nodes), w[5])\n",
    "\n",
    "print(w)"
   ],
   "metadata": {
    "collapsed": false,
    "ExecuteTime": {
     "end_time": "2024-07-05T14:20:30.155264Z",
     "start_time": "2024-07-05T14:20:30.096088Z"
    }
   }
  },
  {
   "cell_type": "code",
   "execution_count": 40,
   "outputs": [
    {
     "name": "stdout",
     "output_type": "stream",
     "text": [
      "[[0. 0. 0. 0. 0. 0. 0. 0. 0. 0.]\n",
      " [0. 0. 0. 0. 0. 0. 0. 0. 0. 0.]\n",
      " [0. 0. 0. 0. 0. 0. 0. 0. 0. 0.]\n",
      " [0. 0. 0. 0. 0. 0. 0. 0. 0. 0.]\n",
      " [0. 0. 0. 0. 0. 0. 0. 0. 0. 0.]\n",
      " [0. 0. 0. 0. 0. 0. 0. 0. 0. 0.]\n",
      " [0. 0. 0. 0. 0. 0. 0. 0. 0. 0.]\n",
      " [0. 0. 0. 0. 0. 0. 0. 0. 0. 0.]\n",
      " [0. 0. 0. 0. 0. 0. 0. 0. 0. 0.]\n",
      " [0. 0. 0. 0. 0. 0. 0. 0. 0. 0.]\n",
      " [0. 0. 0. 0. 0. 0. 0. 0. 0. 0.]\n",
      " [0. 0. 0. 0. 0. 0. 0. 0. 0. 0.]\n",
      " [0. 0. 0. 0. 0. 0. 0. 0. 0. 0.]\n",
      " [0. 0. 0. 0. 0. 0. 0. 0. 0. 0.]\n",
      " [0. 0. 0. 0. 0. 0. 0. 0. 0. 0.]\n",
      " [0. 0. 0. 0. 0. 0. 0. 0. 0. 0.]\n",
      " [0. 0. 0. 0. 0. 0. 0. 0. 0. 0.]\n",
      " [0. 0. 0. 0. 0. 0. 0. 0. 0. 0.]\n",
      " [0. 0. 0. 0. 0. 0. 0. 0. 0. 0.]\n",
      " [0. 0. 0. 0. 0. 0. 0. 0. 0. 0.]\n",
      " [0. 1. 0. 0. 0. 0. 0. 0. 0. 0.]\n",
      " [0. 1. 0. 0. 0. 0. 0. 0. 0. 0.]\n",
      " [0. 1. 0. 0. 0. 0. 0. 0. 0. 0.]\n",
      " [0. 1. 0. 0. 0. 0. 0. 0. 0. 0.]\n",
      " [0. 1. 0. 0. 0. 0. 0. 0. 0. 0.]\n",
      " [0. 0. 0. 0. 0. 0. 0. 0. 0. 0.]\n",
      " [0. 0. 0. 0. 0. 0. 0. 0. 0. 0.]\n",
      " [0. 0. 0. 0. 0. 0. 0. 0. 0. 0.]\n",
      " [0. 0. 0. 0. 0. 0. 0. 0. 0. 0.]\n",
      " [0. 0. 0. 0. 0. 0. 0. 0. 0. 0.]\n",
      " [0. 0. 0. 0. 0. 0. 0. 0. 0. 0.]\n",
      " [0. 0. 0. 0. 0. 0. 0. 0. 0. 0.]\n",
      " [0. 0. 0. 0. 0. 0. 0. 0. 0. 0.]\n",
      " [0. 0. 0. 0. 0. 0. 0. 0. 0. 0.]\n",
      " [0. 0. 0. 0. 0. 0. 0. 0. 0. 0.]\n",
      " [0. 0. 0. 0. 0. 0. 0. 0. 0. 0.]\n",
      " [0. 0. 0. 0. 0. 0. 0. 0. 0. 0.]\n",
      " [0. 0. 0. 0. 0. 0. 0. 0. 0. 0.]\n",
      " [0. 0. 0. 0. 0. 0. 0. 0. 0. 0.]\n",
      " [0. 0. 0. 0. 0. 0. 0. 0. 0. 0.]\n",
      " [0. 0. 0. 0. 0. 0. 0. 0. 0. 0.]\n",
      " [0. 0. 0. 0. 0. 0. 0. 0. 0. 0.]\n",
      " [0. 0. 0. 0. 0. 0. 0. 0. 0. 0.]\n",
      " [0. 0. 0. 0. 0. 0. 0. 0. 0. 0.]\n",
      " [0. 0. 0. 0. 0. 0. 0. 0. 0. 0.]\n",
      " [0. 0. 0. 0. 0. 0. 0. 0. 0. 0.]\n",
      " [0. 0. 0. 0. 0. 0. 0. 0. 0. 0.]\n",
      " [0. 0. 0. 0. 0. 0. 0. 0. 0. 0.]\n",
      " [0. 0. 0. 0. 0. 0. 0. 0. 0. 0.]\n",
      " [0. 0. 0. 0. 0. 0. 0. 0. 0. 0.]]\n"
     ]
    }
   ],
   "source": [
    "external_input = np.zeros((num_nodes, num_time_steps))\n",
    "external_input[20:25, 1] = np.array([1, 1, 1, 1, 1])\n",
    "print(external_input)"
   ],
   "metadata": {
    "collapsed": false,
    "ExecuteTime": {
     "end_time": "2024-07-05T14:20:30.158900Z",
     "start_time": "2024-07-05T14:20:30.156800Z"
    }
   }
  },
  {
   "cell_type": "code",
   "execution_count": 41,
   "outputs": [
    {
     "name": "stdout",
     "output_type": "stream",
     "text": [
      "t=1, initial neuron states\n",
      "\n",
      "[0. 0. 0. 0. 0. 0. 0. 0. 0. 0. 0. 0. 0. 0. 0. 0. 0. 0. 0. 0. 0. 0. 0. 0.\n",
      " 0. 0. 0. 0. 0. 0. 0. 0. 0. 0. 0. 0. 0. 0. 0. 0. 0. 0. 0. 0. 0. 0. 0. 0.\n",
      " 0. 0.] \n",
      "\n"
     ]
    }
   ],
   "source": [
    "# activity rate per neuron for t timesteps\n",
    "U = np.zeros((num_nodes, num_time_steps))\n",
    "# assign random neuron state in the initial timestep\n",
    "# U[:, 0] = np.random.default_rng().random(num_nodes) * 5\n",
    "print('t=1, initial neuron states\\n')\n",
    "print(U[:, 0], '\\n')"
   ],
   "metadata": {
    "collapsed": false,
    "ExecuteTime": {
     "end_time": "2024-07-05T14:20:30.161745Z",
     "start_time": "2024-07-05T14:20:30.160263Z"
    }
   }
  },
  {
   "cell_type": "code",
   "execution_count": 42,
   "outputs": [
    {
     "name": "stdout",
     "output_type": "stream",
     "text": [
      "  message: The solver successfully reached the end of the integration interval.\n",
      "  success: True\n",
      "   status: 0\n",
      "        t: [1 2 3 4 5 6 7 8 9]\n",
      "        y: [[ 3.162e-11  5.368e+02 ...  1.304e+34  2.223e+39]\n",
      "            [ 3.004e-11  6.466e+02 ...  1.564e+34  2.667e+39]\n",
      "            ...\n",
      "            [ 1.652e-11  4.619e+02 ...  1.564e+34  2.667e+39]\n",
      "            [ 1.221e-11  3.813e+02 ...  1.303e+34  2.223e+39]]\n",
      "      sol: None\n",
      " t_events: None\n",
      " y_events: None\n",
      "     nfev: 620\n",
      "     njev: 0\n",
      "      nlu: 0\n",
      "[[ 3.16151451e-11  5.36752203e+02  9.37326374e+07  1.55948597e+13\n",
      "   2.63581929e+18  4.48823632e+23  7.64274871e+28  1.30361238e+34\n",
      "   2.22257887e+39]\n",
      " [ 3.00424097e-11  6.46581608e+02  1.12427444e+08  1.87100253e+13\n",
      "   3.16271834e+18  5.38561285e+23  9.17091825e+28  1.56427361e+34\n",
      "   2.66699183e+39]\n",
      " [ 2.35338808e-11  7.63902190e+02  1.32201543e+08  2.20072944e+13\n",
      "   3.72058835e+18  6.33581741e+23  1.07890864e+29  1.84028759e+34\n",
      "   3.13758108e+39]\n",
      " [ 1.16969803e-11  8.86722658e+02  1.52671055e+08  2.54233947e+13\n",
      "   4.29877517e+18  7.32072710e+23  1.24664010e+29  2.12639230e+34\n",
      "   3.62537540e+39]\n",
      " [-3.41716365e-12  1.01305994e+03  1.73461868e+08  2.88966881e+13\n",
      "   4.88689906e+18  8.32268531e+23  1.41728039e+29  2.41746110e+34\n",
      "   4.12163431e+39]\n",
      " [-1.50719392e-11  1.14107387e+03  1.94235991e+08  3.23715370e+13\n",
      "   5.47559096e+18  9.32575458e+23  1.58811632e+29  2.70886648e+34\n",
      "   4.61846834e+39]\n",
      " [-8.80787462e-12  1.26914793e+03  2.14707730e+08  3.58009801e+13\n",
      "   6.05694336e+18  1.03164838e+24  1.75685799e+29  2.99670285e+34\n",
      "   5.10921884e+39]\n",
      " [ 4.11507780e-11  1.39591388e+03  2.34649227e+08  3.91476403e+13\n",
      "   6.62466295e+18  1.12841676e+24  1.92168293e+29  3.27786188e+34\n",
      "   5.58858636e+39]\n",
      " [ 1.75414572e-10  1.52023054e+03  2.53887154e+08  4.23831653e+13\n",
      "   7.17397541e+18  1.22206840e+24  2.08120845e+29  3.54998526e+34\n",
      "   6.05255023e+39]\n",
      " [ 4.51773038e-10  1.64113390e+03  2.72293707e+08  4.54867193e+13\n",
      "   7.70137026e+18  1.31200600e+24  2.23441761e+29  3.81133853e+34\n",
      "   6.49815332e+39]\n",
      " [ 9.44856279e-10  1.75777728e+03  2.89775264e+08  4.84430880e+13\n",
      "   8.20428041e+18  1.39779255e+24  2.38056633e+29  4.06065252e+34\n",
      "   6.92323180e+39]\n",
      " [ 1.74147035e-09  1.86937663e+03  3.06261476e+08  5.12408540e+13\n",
      "   8.68077382e+18  1.47909887e+24  2.51909396e+29  4.29697091e+34\n",
      "   7.32615515e+39]\n",
      " [ 2.93033946e-09  1.97517025e+03  3.21696495e+08  5.38709290e+13\n",
      "   9.12930538e+18  1.55566134e+24  2.64955136e+29  4.51952750e+34\n",
      "   7.70561704e+39]\n",
      " [ 4.58604089e-09  2.07439641e+03  3.36032984e+08  5.63255452e+13\n",
      "   9.54854660e+18  1.62725291e+24  2.77155152e+29  4.72766202e+34\n",
      "   8.06049163e+39]\n",
      " [ 6.74861031e-09  2.16628755e+03  3.49228693e+08  5.85976770e+13\n",
      "   9.93728782e+18  1.69366647e+24  2.88474126e+29  4.92077177e+34\n",
      "   8.38975130e+39]\n",
      " [ 9.40229460e-09  2.25007769e+03  3.61245000e+08  6.06807859e+13\n",
      "   1.02943954e+19  1.75470755e+24  2.98878876e+29  5.09829054e+34\n",
      "   8.69243053e+39]\n",
      " [ 1.24586146e-08  2.32501865e+03  3.72046655e+08  6.25687701e+13\n",
      "   1.06188032e+19  1.81019290e+24  3.08338122e+29  5.25968442e+34\n",
      "   8.96761890e+39]\n",
      " [ 1.57495113e-08  2.39040142e+03  3.81602120e+08  6.42560121e+13\n",
      "   1.09095212e+19  1.85995195e+24  3.16822729e+29  5.40445607e+34\n",
      "   9.21446830e+39]\n",
      " [ 1.90352775e-08  2.44557992e+03  3.89884073e+08  6.57374567e+13\n",
      "   1.11656488e+19  1.90382912e+24  3.24306105e+29  5.53215145e+34\n",
      "   9.43220442e+39]\n",
      " [ 2.20290744e-08  2.48999487e+03  3.96869853e+08  6.70086806e+13\n",
      "   1.13863870e+19  1.94168593e+24  3.30764557e+29  5.64236597e+34\n",
      "   9.62013725e+39]\n",
      " [ 6.00746159e-06  2.52419310e+03  4.02541757e+08  6.80659409e+13\n",
      "   1.15710473e+19  1.97340250e+24  3.36177557e+29  5.73474893e+34\n",
      "   9.77766862e+39]\n",
      " [ 6.00902345e-06  2.54585989e+03  4.06887199e+08  6.89062028e+13\n",
      "   1.17190569e+19  1.99887850e+24  3.40527893e+29  5.80900622e+34\n",
      "   9.90429684e+39]\n",
      " [ 6.00956487e-06  2.55581512e+03  4.09898753e+08  6.95271516e+13\n",
      "   1.18299615e+19  2.01803364e+24  3.43801760e+29  5.86490179e+34\n",
      "   9.99961920e+39]\n",
      " [ 6.00902345e-06  2.55403571e+03  4.11574125e+08  6.99271949e+13\n",
      "   1.19034262e+19  2.03080786e+24  3.45988800e+29  5.90225832e+34\n",
      "   1.00633331e+40]\n",
      " [ 6.00746159e-06  2.54065579e+03  4.11916070e+08  7.01054601e+13\n",
      "   1.19392360e+19  2.03716148e+24  3.47082115e+29  5.92095758e+34\n",
      "   1.00952368e+40]\n",
      " [ 2.20290711e-08  2.51496648e+03  4.10932278e+08  7.00617897e+13\n",
      "   1.19372956e+19  2.03707519e+24  3.47078280e+29  5.92094052e+34\n",
      "   1.00952292e+40]\n",
      " [ 1.90352721e-08  2.47939349e+03  4.08635237e+08  6.97967351e+13\n",
      "   1.18976297e+19  2.03055007e+24  3.45977345e+29  5.90220738e+34\n",
      "   1.00633105e+40]\n",
      " [ 1.57495031e-08  2.43350119e+03  4.05042068e+08  6.93115491e+13\n",
      "   1.18203820e+19  2.01760761e+24  3.43782830e+29  5.86481761e+34\n",
      "   9.99958178e+39]\n",
      " [ 1.24586027e-08  2.37796097e+03  4.00174346e+08  6.86081787e+13\n",
      "   1.17058153e+19  1.99828961e+24  3.40501725e+29  5.80888986e+34\n",
      "   9.90424512e+39]\n",
      " [ 9.40227828e-09  2.31353311e+03  3.94057896e+08  6.76892564e+13\n",
      "   1.15543106e+19  1.97265817e+24  3.36144482e+29  5.73460186e+34\n",
      "   9.77760324e+39]\n",
      " [ 6.74858915e-09  2.24104449e+03  3.86722572e+08  6.65580893e+13\n",
      "   1.13663665e+19  1.94079555e+24  3.30724993e+29  5.64219004e+34\n",
      "   9.62005904e+39]\n",
      " [ 4.58601537e-09  2.16136650e+03  3.78201997e+08  6.52186444e+13\n",
      "   1.11425971e+19  1.90280394e+24  3.24260550e+29  5.53194888e+34\n",
      "   9.43211438e+39]\n",
      " [ 2.93031146e-09  2.07539371e+03  3.68533256e+08  6.36755245e+13\n",
      "   1.08837291e+19  1.85880490e+24  3.16771759e+29  5.40422942e+34\n",
      "   9.21436755e+39]\n",
      " [ 1.74144389e-09  1.98402384e+03  3.57756499e+08  6.19339308e+13\n",
      "   1.05905961e+19  1.80893844e+24  3.08282379e+29  5.25943655e+34\n",
      "   8.96750872e+39]\n",
      " [ 9.44838178e-10  1.88813897e+03  3.45914446e+08  5.99996052e+13\n",
      "   1.02641291e+19  1.75336151e+24  2.98819064e+29  5.09802457e+34\n",
      "   8.69231230e+39]\n",
      " [ 4.51773348e-10  1.78858829e+03  3.33051775e+08  5.78787532e+13\n",
      "   9.90534444e+18  1.69224585e+24  2.88411000e+29  4.92049107e+34\n",
      "   8.38962652e+39]\n",
      " [ 1.75446643e-10  1.68617272e+03  3.19214499e+08  5.55779606e+13\n",
      "   9.51532963e+18  1.62577565e+24  2.77089510e+29  4.72737012e+34\n",
      "   8.06036188e+39]\n",
      " [ 4.12306179e-11  1.58163234e+03  3.04449513e+08  5.31041399e+13\n",
      "   9.09523499e+18  1.55414612e+24  2.64887806e+29  4.51922811e+34\n",
      "   7.70548395e+39]\n",
      " [-8.66304204e-12  1.47563836e+03  2.88804719e+08  5.04645760e+13\n",
      "   8.64628168e+18  1.47756490e+24  2.51841233e+29  4.29666781e+34\n",
      "   7.32602042e+39]\n",
      " [-1.48459125e-11  1.36879199e+03  2.72330289e+08  4.76671705e+13\n",
      "   8.16980416e+18  1.39625928e+24  2.37988501e+29  4.06034956e+34\n",
      "   6.92309712e+39]\n",
      " [-3.09754784e-12  1.26163303e+03  2.55081739e+08  4.47210053e+13\n",
      "   7.66734725e+18  1.31049289e+24  2.23374525e+29  3.81103955e+34\n",
      "   6.49802042e+39]\n",
      " [ 1.21159238e-11  1.15466048e+03  2.37125392e+08  4.16373266e+13\n",
      "   7.14083540e+18  1.22059456e+24  2.08055354e+29  3.54969404e+34\n",
      "   6.05242078e+39]\n",
      " [ 2.40489537e-11  1.04836595e+03  2.18546399e+08  3.84309792e+13\n",
      "   6.59281928e+18  1.12700057e+24  1.92105364e+29  3.27758205e+34\n",
      "   5.58846198e+39]\n",
      " [ 3.06404014e-11  9.43277201e+02  1.99458741e+08  3.51221898e+13\n",
      "   6.02678232e+18  1.03030703e+24  1.75626196e+29  2.99643781e+34\n",
      "   5.10910103e+39]\n",
      " [ 3.22734032e-11  8.40005622e+02  1.80015685e+08  3.17384228e+13\n",
      "   5.44745937e+18  9.31324359e+23  1.58756039e+29  2.70861927e+34\n",
      "   4.61835845e+39]\n",
      " [ 3.03116076e-11  7.39286979e+02  1.60418149e+08  2.83158592e+13\n",
      "   4.86109062e+18  8.31120749e+23  1.41677037e+29  2.41723431e+34\n",
      "   4.12153349e+39]\n",
      " [ 2.62615037e-11  6.42002897e+02  1.40917947e+08  2.48999536e+13\n",
      "   4.27551662e+18  7.31038330e+23  1.24618047e+29  2.12618792e+34\n",
      "   3.62528455e+39]\n",
      " [ 2.13744641e-11  5.49171191e+02  1.21813039e+08  2.15445608e+13\n",
      "   3.70002722e+18  6.32667323e+23  1.07850231e+29  1.84010690e+34\n",
      "   3.13750076e+39]\n",
      " [ 1.65206507e-11  4.61898123e+02  1.03433167e+08  1.83093415e+13\n",
      "   3.14491430e+18  5.37769483e+23  9.16739984e+28  1.56411716e+34\n",
      "   2.66692228e+39]\n",
      " [ 1.22078561e-11  3.81293930e+02  8.61162773e+07  1.52555197e+13\n",
      "   2.62074097e+18  4.48153052e+23  7.63976895e+28  1.30347988e+34\n",
      "   2.22251998e+39]]\n"
     ]
    }
   ],
   "source": [
    "# print(np.shape(w))\n",
    "# print(r[:, 0].reshape(50, 1))\n",
    "# print(np.dot(w, r[:, 0]))\n",
    "tau = 1\n",
    "def nn_ode(t, Uc, W, I, tau):\n",
    "    t = int(t)\n",
    "    # transpose Uc so we get a column vector\n",
    "    # ...\n",
    "    return np.transpose(Uc).dot(W) + I[:, t]\n",
    "\n",
    "dUdt = sp.integrate.solve_ivp(nn_ode, [0, num_time_steps - 1], U[:, 0], t_eval=np.arange(1, num_time_steps), args=(w, external_input, tau))\n",
    "print(dUdt)\n",
    "print(dUdt.y)"
   ],
   "metadata": {
    "collapsed": false,
    "ExecuteTime": {
     "end_time": "2024-07-05T14:20:30.171803Z",
     "start_time": "2024-07-05T14:20:30.164300Z"
    }
   }
  },
  {
   "cell_type": "code",
   "execution_count": 43,
   "outputs": [
    {
     "data": {
      "text/plain": "[<matplotlib.lines.Line2D at 0x13f4e01f0>,\n <matplotlib.lines.Line2D at 0x13f4e0250>,\n <matplotlib.lines.Line2D at 0x13f4e0280>,\n <matplotlib.lines.Line2D at 0x13f4e0370>,\n <matplotlib.lines.Line2D at 0x13f4e0460>,\n <matplotlib.lines.Line2D at 0x13f4e0550>,\n <matplotlib.lines.Line2D at 0x13f4e0640>,\n <matplotlib.lines.Line2D at 0x13f4e0730>,\n <matplotlib.lines.Line2D at 0x13f4e0820>,\n <matplotlib.lines.Line2D at 0x13f4e0910>,\n <matplotlib.lines.Line2D at 0x13f4e0a00>,\n <matplotlib.lines.Line2D at 0x13f4e0220>,\n <matplotlib.lines.Line2D at 0x13f4e0af0>,\n <matplotlib.lines.Line2D at 0x13f4e0ca0>,\n <matplotlib.lines.Line2D at 0x13f4e0d90>,\n <matplotlib.lines.Line2D at 0x13f4e0e80>,\n <matplotlib.lines.Line2D at 0x13f4e0f70>,\n <matplotlib.lines.Line2D at 0x13f4e1060>,\n <matplotlib.lines.Line2D at 0x13f4e1150>,\n <matplotlib.lines.Line2D at 0x13f4e1240>,\n <matplotlib.lines.Line2D at 0x13f4e1330>,\n <matplotlib.lines.Line2D at 0x13f4e1420>,\n <matplotlib.lines.Line2D at 0x13f4e1510>,\n <matplotlib.lines.Line2D at 0x13f4e1600>,\n <matplotlib.lines.Line2D at 0x13f4e16f0>,\n <matplotlib.lines.Line2D at 0x13f4e17e0>,\n <matplotlib.lines.Line2D at 0x13f4e18d0>,\n <matplotlib.lines.Line2D at 0x13f4e19c0>,\n <matplotlib.lines.Line2D at 0x13f4e1ab0>,\n <matplotlib.lines.Line2D at 0x13f4e1ba0>,\n <matplotlib.lines.Line2D at 0x13f4e1c90>,\n <matplotlib.lines.Line2D at 0x13f4e1d80>,\n <matplotlib.lines.Line2D at 0x13f4e1e70>,\n <matplotlib.lines.Line2D at 0x13f4e1f60>,\n <matplotlib.lines.Line2D at 0x13f4e2050>,\n <matplotlib.lines.Line2D at 0x13f4e2140>,\n <matplotlib.lines.Line2D at 0x13f4e2230>,\n <matplotlib.lines.Line2D at 0x13f4e2320>,\n <matplotlib.lines.Line2D at 0x13f4e2410>,\n <matplotlib.lines.Line2D at 0x13f4e2500>,\n <matplotlib.lines.Line2D at 0x13f4e25f0>,\n <matplotlib.lines.Line2D at 0x13f4e26e0>,\n <matplotlib.lines.Line2D at 0x13f4e27d0>,\n <matplotlib.lines.Line2D at 0x13f4e28c0>,\n <matplotlib.lines.Line2D at 0x13f4e29b0>,\n <matplotlib.lines.Line2D at 0x13f4e2aa0>,\n <matplotlib.lines.Line2D at 0x13f4e2b90>,\n <matplotlib.lines.Line2D at 0x13f4e2c80>,\n <matplotlib.lines.Line2D at 0x13f4e2d70>,\n <matplotlib.lines.Line2D at 0x13f4e2e60>]"
     },
     "execution_count": 43,
     "metadata": {},
     "output_type": "execute_result"
    },
    {
     "data": {
      "text/plain": "<Figure size 640x480 with 1 Axes>",
      "image/png": "[encoded data removed]"
     },
     "metadata": {},
     "output_type": "display_data"
    }
   ],
   "source": [
    "\n",
    "plt.plot(dUdt.t, np.transpose(dUdt.y))"
   ],
   "metadata": {
    "collapsed": false,
    "ExecuteTime": {
     "end_time": "2024-07-05T14:20:30.269911Z",
     "start_time": "2024-07-05T14:20:30.174072Z"
    }
   }
  },
  {
   "cell_type": "code",
   "execution_count": 43,
   "outputs": [],
   "source": [],
   "metadata": {
    "collapsed": false,
    "ExecuteTime": {
     "end_time": "2024-07-05T14:20:30.270198Z",
     "start_time": "2024-07-05T14:20:30.250131Z"
    }
   }
  }
 ],
 "metadata": {
  "kernelspec": {
   "display_name": "Python 3",
   "language": "python",
   "name": "python3"
  },
  "language_info": {
   "codemirror_mode": {
    "name": "ipython",
    "version": 2
   },
   "file_extension": ".py",
   "mimetype": "text/x-python",
   "name": "python",
   "nbconvert_exporter": "python",
   "pygments_lexer": "ipython2",
   "version": "2.7.6"
  }
 },
 "nbformat": 4,
 "nbformat_minor": 0
}
